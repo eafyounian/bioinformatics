{
 "cells": [
  {
   "cell_type": "markdown",
   "metadata": {},
   "source": [
    "# Working with bedtools"
   ]
  },
  {
   "cell_type": "markdown",
   "metadata": {},
   "source": [
    "<div class=\"alert alert-info\" style=\"margin: 0px\">\n",
    "In this exercise we are going to learn about some basic functionalities of bedtools.  \n",
    "</div>"
   ]
  },
  {
   "cell_type": "markdown",
   "metadata": {},
   "source": [
    "1. Once in JupyterLab, open a terminal. and type `bedtools --help` and familiarize yourself with the tool. \n",
    "2. In the terminal type `bedtools intersect` and familiarize yourself with this sub-command. Also check [this](https://bedtools.readthedocs.io/en/latest/content/tools/intersect.html) link.  \n",
    "3. We have a list of random loci in `notebooks/data/random.bed` and we want to see with which genes they interesct. The genes and their coordinate is available in: `notebooks/data/genes_hg38.bed`\n",
    "4. Use less to inspect these two files.\n",
    "5. constatuct your command so that you get a list of genes that are intersected by the random loci. Store the results into `genes_covered.bed`\n",
    "6. Count the number of unique genes in the resulting file in step 5.\n",
    "7. Using Python `pandas` and `matplotlib`, create a bar chart showing the chromosome breakdown of the covered genes. If everything goes right, you should get a figure like this:  \n",
    "\n",
    "<br>\n",
    "<img style=\"float: left;\" src=\"contents/bar_chart.png\">"
   ]
  },
  {
   "cell_type": "markdown",
   "metadata": {},
   "source": [
    "## Answers"
   ]
  },
  {
   "cell_type": "markdown",
   "metadata": {},
   "source": [
    "#### Commands in terminal\n",
    "```bash\n",
    "bedtools intersect -a notebooks/data/genes_hg38.bed -b notebooks/data/random.bed -wa > notebooks/genes_covered.bed\n",
    "cut -f4 notebooks/genes_covered.bed | sort -u | wc -l\n",
    "cut -f1,4 notebooks/genes_covered.bed | sort -u > notebooks/genes_covered_unique.bed\n",
    "```\n",
    "  \n",
    "#### Python script\n",
    "  \n",
    "```python\n",
    "import pandas as pd\n",
    "import matplotlib.pyplot as plt\n",
    "%matplotlib inline\n",
    "\n",
    "df = pd.read_csv('genes_covered_unique.bed', \n",
    "                 sep='\\t', \n",
    "                 header=None,\n",
    "                 names=['chrom', 'gene'])\n",
    "\n",
    "chrom_counts = df.chrom.value_counts(sort=True)\n",
    "chrom_counts.plot(kind='bar');\n",
    "```"
   ]
  },
  {
   "cell_type": "code",
   "execution_count": null,
   "metadata": {},
   "outputs": [],
   "source": []
  }
 ],
 "metadata": {
  "kernelspec": {
   "display_name": "Python 3",
   "language": "python",
   "name": "python3"
  },
  "language_info": {
   "codemirror_mode": {
    "name": "ipython",
    "version": 3
   },
   "file_extension": ".py",
   "mimetype": "text/x-python",
   "name": "python",
   "nbconvert_exporter": "python",
   "pygments_lexer": "ipython3",
   "version": "3.7.7"
  }
 },
 "nbformat": 4,
 "nbformat_minor": 2
}
